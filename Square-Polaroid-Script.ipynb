{
 "cells": [
  {
   "cell_type": "code",
   "execution_count": 1,
   "metadata": {},
   "outputs": [],
   "source": [
    "from PIL import Image\n",
    "import glob\n",
    "from tqdm import tqdm"
   ]
  },
  {
   "cell_type": "markdown",
   "metadata": {},
   "source": []
  },
  {
   "cell_type": "code",
   "execution_count": 2,
   "metadata": {},
   "outputs": [],
   "source": [
    "#Forced Square Cut\n",
    "dpi = 600 #set DPI\n",
    "square_edge = int(3.1*dpi)\n",
    "polaroid_width = int(3.5*dpi)\n",
    "polaroid_height = int(4.5*dpi)\n",
    "pad = int(0.2*dpi)"
   ]
  },
  {
   "cell_type": "code",
   "execution_count": 3,
   "metadata": {},
   "outputs": [
    {
     "name": "stderr",
     "output_type": "stream",
     "text": [
      "100%|██████████| 1/1 [00:00<00:00,  2.45it/s]\n"
     ]
    },
    {
     "name": "stdout",
     "output_type": "stream",
     "text": [
      "done\n"
     ]
    }
   ],
   "source": [
    "for file in tqdm(glob.glob(\"*.jpg\")):\n",
    "    im = Image.open(file)\n",
    "    old_size = im.size\n",
    "    ratio = float(square_edge)/max(old_size)\n",
    "    new_size = tuple([int(x*ratio) for x in old_size])\n",
    "    im = im.resize(new_size, Image.ANTIALIAS)\n",
    "    new_im0 = Image.new(\"RGB\",(square_edge, square_edge), \"#49503C\")\n",
    "    new_im0.paste(im, ((square_edge - new_size[0])//2, (square_edge - new_size[1])//2))\n",
    "    new_im1 = Image.new(\"RGB\",(polaroid_width, polaroid_height), \"white\")\n",
    "    new_im1.paste(new_im0, (pad,pad ))\n",
    "    new_im1.save(file, 'JPEG')\n",
    "print(\"done\")\n",
    "    "
   ]
  },
  {
   "cell_type": "code",
   "execution_count": null,
   "metadata": {},
   "outputs": [],
   "source": []
  }
 ],
 "metadata": {
  "kernelspec": {
   "display_name": "Python 3",
   "language": "python",
   "name": "python3"
  },
  "language_info": {
   "codemirror_mode": {
    "name": "ipython",
    "version": 3
   },
   "file_extension": ".py",
   "mimetype": "text/x-python",
   "name": "python",
   "nbconvert_exporter": "python",
   "pygments_lexer": "ipython3",
   "version": "3.7.3"
  }
 },
 "nbformat": 4,
 "nbformat_minor": 2
}
